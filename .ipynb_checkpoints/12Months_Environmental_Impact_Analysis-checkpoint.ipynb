{
 "cells": [
  {
   "attachments": {
    "logo%20Screenshot.png": {
     "image/png": "[encoded data removed]"
    }
   },
   "cell_type": "markdown",
   "id": "00658be2",
   "metadata": {},
   "source": [
    "![logo%20Screenshot.png](attachment:logo%20Screenshot.png)"
   ]
  },
  {
   "cell_type": "code",
   "execution_count": 1,
   "id": "16a3bbd4",
   "metadata": {},
   "outputs": [
    {
     "data": {
      "text/html": [
       "<h1 style='text-align: center; font-size: 36px;'>Environmental Impact Analysis DASHBOARD</h1>"
      ],
      "text/plain": [
       "<IPython.core.display.HTML object>"
      ]
     },
     "metadata": {},
     "output_type": "display_data"
    }
   ],
   "source": [
    "from IPython.display import display, HTML\n",
    "\n",
    "# Centering the title using HTML\n",
    "display(HTML(\"<h1 style='text-align: center; font-size: 36px;'>Environmental Impact Analysis DASHBOARD</h1>\"))\n"
   ]
  },
  {
   "cell_type": "markdown",
   "id": "15820896",
   "metadata": {},
   "source": [
    "\n",
    "Estimate the environmental impact in;\n",
    "- carbon footprint saved, and\n",
    "- landfill reduction based on the amount of material recycled."
   ]
  },
  {
   "cell_type": "code",
   "execution_count": 2,
   "id": "080336df",
   "metadata": {},
   "outputs": [],
   "source": [
    "#Import Important Libraries\n",
    "\n",
    "import pandas as pd\n",
    "import numpy as np\n",
    "import textwrap\n",
    "import matplotlib.pyplot as plt\n",
    "import seaborn as sns\n",
    "import plotly.express as px\n",
    "import plotly.graph_objects as go\n",
    "import ipywidgets as widgets\n",
    "from ipywidgets import Dropdown, interact\n",
    "import ipywidgets as widgets\n",
    "from IPython.display import display, clear_output, HTML"
   ]
  },
  {
   "cell_type": "code",
   "execution_count": 3,
   "id": "741daf48",
   "metadata": {},
   "outputs": [],
   "source": [
    "file_path = \"merged_data.xlsx\"\n",
    "eia_data = pd.read_excel(file_path)\n",
    "\n",
    "eia_data = eia_data.drop(columns=['collection_month'])\n",
    "\n",
    "# Convert 'collection_month' to datetime, extract the month name as a string.\n",
    "# This ensures all month names are consistent and formatted correctly (e.g., 'January', 'February').\n",
    "eia_data['month'] = pd.to_datetime(\n",
    "    eia_data['month'], format='%B'\n",
    ").dt.strftime('%B')\n",
    "\n",
    "#  Define the correct chronological order for months (January to December).\n",
    "# This ensures that 'collection_month' will follow a proper calendar sequence.\n",
    "month_order = [\n",
    "    'January', 'February', 'March', 'April', 'May', 'June',\n",
    "    'July', 'August', 'September', 'October', 'November', 'December'\n",
    "]\n",
    "\n",
    "#  Convert 'collection_month' to a categorical type with the defined order.\n",
    "# This will enforce the desired chronological order during sorting or plotting.\n",
    "eia_data['month'] = pd.Categorical(\n",
    "    eia_data['month'], categories=month_order, ordered=True\n",
    ")\n",
    "#print(eia_data.info())\n",
    "#eia_data.head(2)"
   ]
  },
  {
   "cell_type": "markdown",
   "id": "fb52239b",
   "metadata": {},
   "source": [
    "### Adding the 'CO2_saved_kg' column to the data frame.\n",
    "\n",
    "The calculation goes thus:\n",
    "- ##### PET\n",
    "Carbon emissions saved by recycling PET: Approximately 1.5 kg of CO₂ equivalent per 1 kg of PET recycled\n",
    "Carbon Saved (kg CO₂)=Quantity of PET Recycled (kg)×1.5 kg CO₂\n",
    "\n",
    "- ##### Aluminum Cans\n",
    "Carbon emissions saved by recycling aluminum: Approximately 9 kg of CO₂ equivalent per 1 kg of aluminum recycled.\n",
    "Carbon Saved (kg CO₂)=Quantity of Aluminum Recycled (kg)×9 kg CO₂\n",
    "\n",
    "- ##### PP plastic\n",
    "Carbon emissions saved by recycling PP plastic: Approximately 0.5 to 1.0 kg of CO₂ equivalent per 1 kg of PP recycled. A commonly accepted average is 0.7 kg CO₂ per kg of PP.\n",
    "Carbon Saved (kg CO₂)=Quantity of PP Recycled (kg)×0.7 kg CO₂\n",
    "\n",
    "- ##### Glass Bottles\n",
    "Carbon emissions saved by recycling glass: Approximately 0.3 kg of CO₂ equivalent per 1 kg of glass recycled.\n",
    "\n",
    "- ##### Cardboard Paper\n",
    "Carbon emissions saved by recycling cardboard: Approximately 0.9 kg of CO₂ equivalent per 1 kg of cardboard recycled.\n",
    "Carbon Saved (kg CO₂)=Quantity of Cardboard Recycled (kg)×0.9 kg CO₂"
   ]
  },
  {
   "cell_type": "code",
   "execution_count": 4,
   "id": "bb0930c9",
   "metadata": {},
   "outputs": [],
   "source": [
    "# Define the conditions for each material\n",
    "conditions = [\n",
    "    eia_data['material_collected'] == \"PET Plastic (water, soda, juices, etc)\",\n",
    "    eia_data['material_collected'] == \"Aluminum (can drinks)\",\n",
    "    eia_data['material_collected'] == \"Glass\",\n",
    "    eia_data['material_collected'] == \"PP Plastic (transparent take away packs)\",\n",
    "    eia_data['material_collected'] == \"Cardboard\"\n",
    "]\n",
    "\n",
    "# Define the corresponding CO2_saved_kg multiplier for each material\n",
    "multipliers = [1.5, 9, 0.3, 0.7, 0.9]\n",
    "\n",
    "# Calculate CO2_saved_kg based on the conditions and multipliers\n",
    "eia_data['CO2_saved_kg'] = np.select(conditions, multipliers, default=0) * eia_data['quantity_collected_kg']\n",
    "\n",
    "#eia_data.head(2)"
   ]
  },
  {
   "cell_type": "markdown",
   "id": "2255ecb8",
   "metadata": {},
   "source": [
    "### Adding the 'land_fill_saved_m3' column to the data frame.\n",
    "\n",
    "The calculation goes thus:\n",
    "\n",
    "- ##### Aluminum cans: \n",
    "About 3 cubic meters per ton (1000kg)\n",
    "- ##### PET plastic: \n",
    "About 1.5 cubic meters per ton\n",
    "- ##### Cardboard: \n",
    "About 2.5 cubic meters per ton\n",
    "- ##### Glass: \n",
    "1 ton = 0.3 cubic meters.\n",
    "- ##### PP Plastics: \n",
    "1 ton = 1.8 cubic meters."
   ]
  },
  {
   "cell_type": "code",
   "execution_count": 5,
   "id": "348d971d",
   "metadata": {},
   "outputs": [],
   "source": [
    "# Define the conditions for each material\n",
    "conditions = [\n",
    "    eia_data['material_collected'] == \"PET Plastic (water, soda, juices, etc)\",\n",
    "    eia_data['material_collected'] == \"Aluminum (can drinks)\",\n",
    "    eia_data['material_collected'] == \"Glass\",\n",
    "    eia_data['material_collected'] == \"PP Plastic (transparent take away packs)\",\n",
    "    eia_data['material_collected'] == \"Cardboard\"\n",
    "]\n",
    "\n",
    "# Define the corresponding CO2_saved_kg multiplier for each material\n",
    "multipliers = [0.0015, 0.003, 0.0003, 0.0018, 0.0025]\n",
    "\n",
    "# Calculate CO2_saved_kg based on the conditions and multipliers\n",
    "eia_data['land_fill_saved_m3'] = np.select(conditions, multipliers, default=0) * eia_data['quantity_collected_kg']\n",
    "\n",
    "#eia_data.head(2)"
   ]
  },
  {
   "cell_type": "code",
   "execution_count": 6,
   "id": "27e68f70",
   "metadata": {},
   "outputs": [],
   "source": [
    "# Save the merged data to an Excel file named 'merged_data.xlsx'\n",
    "# This step ensures the data is stored for future use or analysis.\n",
    "#excel_filename = 'eia_data.xlsx'\n",
    "#eia_data.to_excel(excel_filename, index=False)\n",
    "\n",
    "#print(f\"Environmental Impact data saved to '{excel_filename}' successfully.\")"
   ]
  },
  {
   "cell_type": "code",
   "execution_count": 7,
   "id": "00b9ddbe",
   "metadata": {
    "scrolled": true
   },
   "outputs": [],
   "source": [
    "# Perform environmental impact analysis by aggregating total CO2_saved_kg and land_fill_saved_m3 by each customer in each month\n",
    "impact_analysis = eia_data.groupby(['customer_name', 'month']).agg({\n",
    "    'CO2_saved_kg': 'sum',\n",
    "    'land_fill_saved_m3': 'sum'\n",
    "}).reset_index()\n",
    "\n",
    "#print(impact_analysis.info())\n",
    "# Display the result\n",
    "#impact_analysis.head()"
   ]
  },
  {
   "cell_type": "code",
   "execution_count": 8,
   "id": "a4bada3a",
   "metadata": {},
   "outputs": [
    {
     "data": {
      "application/vnd.jupyter.widget-view+json": {
       "model_id": "73760f704d9a45aba5adfd232c7072a0",
       "version_major": 2,
       "version_minor": 0
      },
      "text/plain": [
       "interactive(children=(Dropdown(description='Select Customer:', options=('All Customers', 'Amala joint', 'D’mix…"
      ]
     },
     "metadata": {},
     "output_type": "display_data"
    },
    {
     "data": {
      "text/plain": [
       "<function __main__.plot_customer_impact(selected_customer, chart_type)>"
      ]
     },
     "execution_count": 8,
     "metadata": {},
     "output_type": "execute_result"
    }
   ],
   "source": [
    "# Add \"All Customers\" option to the dropdown options\n",
    "customer_options = ['All Customers'] + impact_analysis['customer_name'].unique().tolist()\n",
    "\n",
    "# Function to plot either CO2 saved or landfill saved based on the selected chart type\n",
    "def plot_customer_impact(selected_customer, chart_type):\n",
    "    # Determine the column and settings based on chart type\n",
    "    if chart_type == 'CO2 Saved':\n",
    "        value_column = 'CO2_saved_kg'\n",
    "        title = 'Total CO2 Saved (kg)'\n",
    "        ylabel = 'Total CO2 Saved (kg)'\n",
    "        color = 'skyblue'\n",
    "        hover_data = {'CO2_saved_kg': ':.1f'}\n",
    "    else:  # Landfill saved\n",
    "        value_column = 'land_fill_saved_m3'\n",
    "        title = 'Total Landfill Saved (m³)'\n",
    "        ylabel = 'Total Landfill Saved (m³)'\n",
    "        color = 'lightcoral'\n",
    "        hover_data = {'land_fill_saved_m3': ':.1f'}\n",
    "\n",
    "    # Filter or aggregate data based on selected customer\n",
    "    if selected_customer == 'All Customers':\n",
    "        # Aggregate data by month for total CO2 or landfill saved\n",
    "        data_to_plot = impact_analysis.groupby('month')[value_column].sum().reset_index()\n",
    "        title += ' for All Customers'\n",
    "    else:\n",
    "        # Filter data for the selected customer\n",
    "        data_to_plot = impact_analysis[impact_analysis['customer_name'] == selected_customer]\n",
    "\n",
    "    # Create the interactive bar chart using Plotly\n",
    "    fig = px.bar(\n",
    "        data_to_plot, \n",
    "        x='month', \n",
    "        y=value_column, \n",
    "        color_discrete_sequence=[color],\n",
    "        title=title,\n",
    "        labels={value_column: ylabel, 'month': 'Month'},\n",
    "        hover_data=hover_data  # Display hover data\n",
    "    )\n",
    "\n",
    "    # Customize the layout\n",
    "    fig.update_layout(\n",
    "        xaxis_title=\"Month\",\n",
    "        yaxis_title=ylabel,\n",
    "        title_font_size=16,\n",
    "        height=600,\n",
    "        xaxis_tickangle=-45  # Rotate x-axis labels for better readability\n",
    "    )\n",
    "\n",
    "    # Show the interactive plot\n",
    "    fig.show()\n",
    "\n",
    "# Create dropdowns for customers (including \"All Customers\") and chart types\n",
    "customer_dropdown = Dropdown(options=customer_options, description='Select Customer:')\n",
    "chart_type_dropdown = Dropdown(options=['CO2 Saved', 'Landfill Saved'], description='Select Chart Type:')\n",
    "\n",
    "# Use the interact function to link the dropdowns to the plot function\n",
    "interact(plot_customer_impact, selected_customer=customer_dropdown, chart_type=chart_type_dropdown)\n"
   ]
  },
  {
   "cell_type": "markdown",
   "id": "11baaf8e",
   "metadata": {},
   "source": [
    "###### _Customer Impact_\n",
    "\n",
    "Sustainability Performance Snapshot\n",
    "- The data shows the company has made significant progress in reducing CO2 emissions and diverting waste from landfills.\n",
    "- Monthly trends reveal opportunities to sustain high performance throughout the year.\n",
    "\n",
    "Targeted Customer Insights\n",
    "- The \"Amala joint\" customer data provides granular visibility into their sustainability contributions.\n",
    "- Analyzing individual customer patterns can help identify tailored improvement strategies.\n",
    "\n",
    "Recommendations for Enhanced Sustainability\n",
    "- Investigate drivers behind monthly variations to maintain consistent high performance.\n",
    "- Engage with customers like Amala joint to further optimize their sustainability impact.\n",
    "- Consider setting measurable targets to drive continuous improvement.\n",
    "\n",
    "In summary, the data visualizations demonstrate the company's sustainability achievements while highlighting areas to refine strategies and expand impact. By leveraging these insights, the company can strengthen its environmental stewardship and work towards a more sustainable future."
   ]
  },
  {
   "cell_type": "code",
   "execution_count": 9,
   "id": "a9cbf12b",
   "metadata": {},
   "outputs": [
    {
     "name": "stdout",
     "output_type": "stream",
     "text": [
      " \n"
     ]
    }
   ],
   "source": [
    "print(\" \")"
   ]
  },
  {
   "cell_type": "code",
   "execution_count": 10,
   "id": "5b52643a",
   "metadata": {},
   "outputs": [
    {
     "data": {
      "application/vnd.jupyter.widget-view+json": {
       "model_id": "936f7680a6544a13b6f582d4e0924ec9",
       "version_major": 2,
       "version_minor": 0
      },
      "text/plain": [
       "interactive(children=(Dropdown(description='Select Month:', options=('All Months', 'January', 'February', 'Mar…"
      ]
     },
     "metadata": {},
     "output_type": "display_data"
    },
    {
     "data": {
      "text/plain": [
       "<function __main__.plot_impact_by_month(selected_month, impact_type)>"
      ]
     },
     "execution_count": 10,
     "metadata": {},
     "output_type": "execute_result"
    }
   ],
   "source": [
    "# Sorting data for better visualization\n",
    "impact_analysis_sortbyco2 = impact_analysis.sort_values(by='CO2_saved_kg', ascending=True)\n",
    "impact_analysis_sortbylandfill = impact_analysis.sort_values(by='land_fill_saved_m3', ascending=True)\n",
    "\n",
    "# Add \"All Months\" option to the dropdown options\n",
    "month_options = ['All Months'] + impact_analysis['month'].unique().tolist()\n",
    "\n",
    "# Function to plot the chosen impact by customers for the selected month\n",
    "def plot_impact_by_month(selected_month, impact_type):\n",
    "    # Determine column and settings based on impact type\n",
    "    if impact_type == 'CO2 Saved':\n",
    "        value_column = 'CO2_saved_kg'\n",
    "        color = 'skyblue'\n",
    "        title = 'Total CO2 Saved (kg)'\n",
    "        data_to_plot = impact_analysis_sortbyco2  # Default sorted data\n",
    "    else:  # Landfill saved\n",
    "        value_column = 'land_fill_saved_m3'\n",
    "        color = 'lightgreen'\n",
    "        title = 'Total Landfill Saved (m³)'\n",
    "        data_to_plot = impact_analysis_sortbylandfill  # Default sorted data\n",
    "\n",
    "    # Filter or aggregate data based on the selected month\n",
    "    if selected_month == 'All Months':\n",
    "        # Sum values by customer across all months\n",
    "        data_to_plot = data_to_plot.groupby('customer_name', as_index=False)[value_column].sum()\n",
    "        title += ' for All Months'\n",
    "    else:\n",
    "        # Filter data for the selected month\n",
    "        data_to_plot = data_to_plot[data_to_plot['month'] == selected_month]\n",
    "        title += f' for {selected_month}'\n",
    "    \n",
    "    # Sort data for better visualization\n",
    "    data_to_plot = data_to_plot.sort_values(by=value_column, ascending=True)\n",
    "\n",
    "    # Create the horizontal bar chart using Plotly\n",
    "    fig = px.bar(\n",
    "        data_to_plot, \n",
    "        x=value_column, \n",
    "        y='customer_name', \n",
    "        orientation='h',\n",
    "        title=title,\n",
    "        color_discrete_sequence=[color],\n",
    "        hover_data={value_column: ':.2f'},  # Display values on hover\n",
    "        labels={value_column: title.split(' ')[-1], 'customer_name': 'Customer Name'}\n",
    "    )\n",
    "\n",
    "    # Customize the layout\n",
    "    fig.update_layout(\n",
    "        xaxis_title=title.split(' ')[-1],\n",
    "        yaxis_title='Customer Name',\n",
    "        title_font_size=16,\n",
    "        height=600\n",
    "    )\n",
    "\n",
    "    # Show the interactive plot\n",
    "    fig.show()\n",
    "\n",
    "# Create dropdowns for months (including \"All Months\") and impact types\n",
    "month_dropdown = Dropdown(options=month_options, description='Select Month:')\n",
    "impact_type_dropdown = Dropdown(options=['CO2 Saved', 'Landfill Saved'], description='Select Impact Type:')\n",
    "\n",
    "# Use the interact function to link the dropdowns to the plot function\n",
    "interact(plot_impact_by_month, selected_month=month_dropdown, impact_type=impact_type_dropdown)\n"
   ]
  },
  {
   "cell_type": "markdown",
   "id": "db9f4468",
   "metadata": {},
   "source": [
    "Key Insights:\n",
    "- Significant progress in reducing CO2 emissions and diverting waste from landfills\n",
    "- Monthly variations indicate opportunities for improvement\n",
    "- Top performing customers include Nemesis, Hopeland, and Vineyard\n",
    "\n",
    "Recommendations:\n",
    "- Maintain high performance throughout the year\n",
    "- Engage with top customers to understand best practices\n",
    "- Develop tailored programs for underperforming customers\n",
    "- Set measurable sustainability targets to drive continuous improvement"
   ]
  },
  {
   "cell_type": "code",
   "execution_count": 11,
   "id": "52b14783",
   "metadata": {},
   "outputs": [
    {
     "data": {
      "application/vnd.jupyter.widget-view+json": {
       "model_id": "091a27f15d7a48d1a8e484c0fe0bb1d3",
       "version_major": 2,
       "version_minor": 0
      },
      "text/plain": [
       "interactive(children=(Dropdown(description='Select Customer:', options=('All Customers', 'Amala joint', 'D’mix…"
      ]
     },
     "metadata": {},
     "output_type": "display_data"
    },
    {
     "data": {
      "text/plain": [
       "<function __main__.plot_mom_trend(selected_customer, impact_type)>"
      ]
     },
     "execution_count": 11,
     "metadata": {},
     "output_type": "execute_result"
    }
   ],
   "source": [
    "# Add \"All Customers\" option to the dropdown\n",
    "customer_options = ['All Customers'] + impact_analysis['customer_name'].unique().tolist()\n",
    "\n",
    "# Sort by customer and month to maintain order\n",
    "impact_analysis_sorted = impact_analysis.sort_values(by=['customer_name', 'month'])\n",
    "\n",
    "# Calculate Month-over-Month percentage change for CO2 saved and landfill saved\n",
    "impact_analysis_sorted['MoM_change_co2'] = impact_analysis_sorted.groupby('customer_name')['CO2_saved_kg'].pct_change() * 100\n",
    "impact_analysis_sorted['MoM_change_land_fill'] = impact_analysis_sorted.groupby('customer_name')['land_fill_saved_m3'].pct_change() * 100\n",
    "\n",
    "# Function to plot the MoM trend based on selected impact type and customer\n",
    "def plot_mom_trend(selected_customer, impact_type):\n",
    "    if selected_customer == 'All Customers':\n",
    "        # Aggregate data across all customers\n",
    "        if impact_type == 'CO2 Saved':\n",
    "            data_to_plot = impact_analysis_sorted.groupby('month', as_index=False).agg({\n",
    "                'CO2_saved_kg': 'sum',\n",
    "                'MoM_change_co2': 'mean'  # Aggregate the MoM change\n",
    "            })\n",
    "            value_column = 'CO2_saved_kg'\n",
    "            mom_column = 'MoM_change_co2'\n",
    "            title = 'Month-over-Month Trend - CO2 Saved (All Customers)'\n",
    "            yaxis_title = 'Total CO2 Saved (kg)'\n",
    "            bar_color = 'skyblue'\n",
    "        else:\n",
    "            data_to_plot = impact_analysis_sorted.groupby('month', as_index=False).agg({\n",
    "                'land_fill_saved_m3': 'sum',\n",
    "                'MoM_change_land_fill': 'mean'\n",
    "            })\n",
    "            value_column = 'land_fill_saved_m3'\n",
    "            mom_column = 'MoM_change_land_fill'\n",
    "            title = 'Month-over-Month Trend - Landfill Saved (All Customers)'\n",
    "            yaxis_title = 'Total Landfill Saved (m³)'\n",
    "            bar_color = 'lightgreen'\n",
    "    else:\n",
    "        # Filter data for the selected customer\n",
    "        data_to_plot = impact_analysis_sorted[impact_analysis_sorted['customer_name'] == selected_customer]\n",
    "        if impact_type == 'CO2 Saved':\n",
    "            value_column = 'CO2_saved_kg'\n",
    "            mom_column = 'MoM_change_co2'\n",
    "            title = f'Month-over-Month Trend for {selected_customer} - CO2 Saved'\n",
    "            yaxis_title = 'CO2 Saved (kg)'\n",
    "            bar_color = 'skyblue'\n",
    "        else:\n",
    "            value_column = 'land_fill_saved_m3'\n",
    "            mom_column = 'MoM_change_land_fill'\n",
    "            title = f'Month-over-Month Trend for {selected_customer} - Landfill Saved'\n",
    "            yaxis_title = 'Landfill Saved (m³)'\n",
    "            bar_color = 'lightgreen'\n",
    "\n",
    "    # Create a figure\n",
    "    fig = go.Figure()\n",
    "\n",
    "    # Bar plot for the selected impact type\n",
    "    fig.add_trace(go.Bar(\n",
    "        x=data_to_plot['month'],\n",
    "        y=data_to_plot[value_column],\n",
    "        name=yaxis_title,\n",
    "        marker_color=bar_color,\n",
    "        hoverinfo='text',\n",
    "        hovertemplate='<b>Month:</b> %{x}<br>' +\n",
    "                      '<b>' + yaxis_title + ':</b> %{y}<br>' +\n",
    "                      '<b>MoM % Change:</b> %{customdata:.1f}%' +\n",
    "                      '<extra></extra>',\n",
    "        customdata=data_to_plot[mom_column]  # Pass the MoM values for hover\n",
    "    ))\n",
    "\n",
    "    # Line plot for MoM percentage change\n",
    "    fig.add_trace(go.Scatter(\n",
    "        x=data_to_plot['month'],\n",
    "        y=data_to_plot[mom_column],\n",
    "        name='MoM % Change',\n",
    "        mode='lines+markers',\n",
    "        marker=dict(color='red'),\n",
    "        line=dict(width=2),\n",
    "        yaxis='y2'\n",
    "    ))\n",
    "\n",
    "    # Update layout with dual y-axes\n",
    "    fig.update_layout(\n",
    "        title=title,\n",
    "        yaxis_title=yaxis_title,\n",
    "        yaxis2=dict(title='MoM % Change', overlaying='y', side='right', tickformat='.1f'),\n",
    "        xaxis_title='Month',\n",
    "        legend_title='Impact Metrics',\n",
    "        template='plotly_white',\n",
    "        height=600\n",
    "    )\n",
    "\n",
    "    # Show the interactive plot\n",
    "    fig.show()\n",
    "\n",
    "# Create dropdowns for customers (including \"All Customers\") and impact types\n",
    "customer_dropdown = Dropdown(options=customer_options, description='Select Customer:')\n",
    "impact_type_dropdown = Dropdown(options=['CO2 Saved', 'Landfill Saved'], description='Select Impact Type:')\n",
    "\n",
    "# Use the interact function to link the dropdowns to the plot function\n",
    "interact(plot_mom_trend, selected_customer=customer_dropdown, impact_type=impact_type_dropdown)\n"
   ]
  },
  {
   "cell_type": "markdown",
   "id": "fb3cede8",
   "metadata": {},
   "source": [
    "Key Insights:\n",
    "\n",
    "- Overall CO2 savings trend shows significant monthly variations, with a peak in December\n",
    "- Month-over-month percentage change also fluctuates widely, from -40% to over 150%\n",
    "\n",
    "Recommendations:\n",
    "- Investigate the drivers behind the significant monthly fluctuations in CO2 savings\n",
    "- Implement strategies to stabilize performance and maintain high savings consistently\n",
    "- Engage with top-performing customers like Hopeland to understand their best practices\n",
    "- Set specific, measurable targets to guide continuous improvement in sustainability"
   ]
  },
  {
   "cell_type": "code",
   "execution_count": 12,
   "id": "c5bf356a",
   "metadata": {},
   "outputs": [
    {
     "name": "stdout",
     "output_type": "stream",
     "text": [
      "Customer with the highest CO2 saved (kg):\n",
      "customer_name         Masaratti\n",
      "month                  December\n",
      "CO2_saved_kg             3129.5\n",
      "land_fill_saved_m3        2.205\n",
      "Name: 59, dtype: object\n",
      "\n",
      "Customer with the lowest CO2 saved (kg):\n",
      "customer_name         Wingside\n",
      "month                      May\n",
      "CO2_saved_kg            566.55\n",
      "land_fill_saved_m3     0.50193\n",
      "Name: 112, dtype: object\n",
      "\n",
      "Customer with the highest landfill saved (m³):\n",
      "customer_name         Masaratti\n",
      "month                  December\n",
      "CO2_saved_kg             3129.5\n",
      "land_fill_saved_m3        2.205\n",
      "Name: 59, dtype: object\n",
      "\n",
      "Customer with the lowest landfill saved (m³):\n",
      "customer_name         Masaratti\n",
      "month                      June\n",
      "CO2_saved_kg             639.54\n",
      "land_fill_saved_m3      0.48672\n",
      "Name: 53, dtype: object\n"
     ]
    }
   ],
   "source": [
    "# Find the customer with the highest CO2 saved\n",
    "max_co2_customer = impact_analysis.loc[impact_analysis['CO2_saved_kg'].idxmax()]\n",
    "\n",
    "# Find the customer with the lowest CO2 saved\n",
    "min_co2_customer = impact_analysis.loc[impact_analysis['CO2_saved_kg'].idxmin()]\n",
    "\n",
    "# Find the customer with the highest landfill saved\n",
    "max_landfill_customer = impact_analysis.loc[impact_analysis['land_fill_saved_m3'].idxmax()]\n",
    "\n",
    "# Find the customer with the lowest landfill saved\n",
    "min_landfill_customer = impact_analysis.loc[impact_analysis['land_fill_saved_m3'].idxmin()]\n",
    "\n",
    "# Display the results\n",
    "print(\"Customer with the highest CO2 saved (kg):\")\n",
    "print(max_co2_customer)\n",
    "\n",
    "print(\"\\nCustomer with the lowest CO2 saved (kg):\")\n",
    "print(min_co2_customer)\n",
    "\n",
    "print(\"\\nCustomer with the highest landfill saved (m³):\")\n",
    "print(max_landfill_customer)\n",
    "\n",
    "print(\"\\nCustomer with the lowest landfill saved (m³):\")\n",
    "print(min_landfill_customer)"
   ]
  },
  {
   "cell_type": "code",
   "execution_count": 13,
   "id": "7ba8d6a4",
   "metadata": {},
   "outputs": [],
   "source": [
    "# Calculate the total CO2_saved_kg and land_fill_saved_m3 across all customers\n",
    "total_CO2_saved = impact_analysis['CO2_saved_kg'].sum()\n",
    "total_landfill_saved = impact_analysis['land_fill_saved_m3'].sum()\n",
    "\n",
    "# Calculate the percentage of CO2 saved by each customer\n",
    "impact_analysis['percentage_CO2_saved'] = (impact_analysis['CO2_saved_kg'] / total_CO2_saved) * 100\n",
    "\n",
    "# Calculate the percentage of landfill saved by each customer\n",
    "impact_analysis['percentage_landfill_saved'] = (impact_analysis['land_fill_saved_m3'] / total_landfill_saved) * 100\n",
    "\n",
    "# Show the updated DataFrame with percentage columns\n",
    "#impact_analysis.head()"
   ]
  },
  {
   "cell_type": "code",
   "execution_count": 14,
   "id": "e21825fa",
   "metadata": {},
   "outputs": [],
   "source": [
    "# Perform the aggregation\n",
    "impact_summary = impact_analysis.groupby('customer_name').agg({\n",
    "    'percentage_CO2_saved': 'sum',\n",
    "    'percentage_landfill_saved': 'sum'\n",
    "}).reset_index()"
   ]
  },
  {
   "cell_type": "code",
   "execution_count": 15,
   "id": "881b0669",
   "metadata": {
    "scrolled": false
   },
   "outputs": [
    {
     "data": {
      "application/vnd.jupyter.widget-view+json": {
       "model_id": "691d171323e24c398a9d891939de5582",
       "version_major": 2,
       "version_minor": 0
      },
      "text/plain": [
       "interactive(children=(Dropdown(description='Select Metric:', options=('CO2 Saved', 'Landfill Saved'), value='C…"
      ]
     },
     "metadata": {},
     "output_type": "display_data"
    },
    {
     "data": {
      "text/plain": [
       "<function __main__.plot_impact(selected_metric)>"
      ]
     },
     "execution_count": 15,
     "metadata": {},
     "output_type": "execute_result"
    }
   ],
   "source": [
    "# Sort the summaries for CO2 and landfill saved\n",
    "impact_summary_sorted_co2 = impact_summary.sort_values(by='percentage_CO2_saved', ascending=True)\n",
    "impact_summary_sorted_landfill = impact_summary.sort_values(by='percentage_landfill_saved', ascending=True)\n",
    "\n",
    "# Function to create the interactive bar chart based on selected metric\n",
    "def plot_impact(selected_metric):\n",
    "    if selected_metric == 'CO2 Saved':\n",
    "        # Create the interactive bar chart for CO2 saved\n",
    "        fig = px.bar(\n",
    "            impact_summary_sorted_co2, \n",
    "            x='percentage_CO2_saved', \n",
    "            y='customer_name', \n",
    "            orientation='h',  # Horizontal bar chart\n",
    "            title='Total CO2 Saved by Each Customer',\n",
    "            labels={'percentage_CO2_saved': 'Total CO2 Saved (%)', 'customer_name': 'Customer Name'},\n",
    "            hover_data={'percentage_CO2_saved': ':.1f'},  # Format hover data with 1 decimal place\n",
    "        )\n",
    "\n",
    "        # Customize the layout\n",
    "        fig.update_layout(\n",
    "            xaxis_title=\"Total CO2 Saved (%)\",\n",
    "            yaxis_title=\"Customer Name\",\n",
    "            title_font_size=16,\n",
    "            xaxis_tickformat=',.1f',  # Format x-axis values to 1 decimal place\n",
    "            height=600\n",
    "        )\n",
    "    \n",
    "    elif selected_metric == 'Landfill Saved':\n",
    "        # Create the interactive bar chart for landfill saved\n",
    "        fig = px.bar(\n",
    "            impact_summary_sorted_landfill, \n",
    "            x='percentage_landfill_saved', \n",
    "            y='customer_name', \n",
    "            orientation='h',  # Horizontal bar chart\n",
    "            title='Total Landfill Space Saved by Each Customer',\n",
    "            labels={'percentage_landfill_saved': 'Total Landfill Space Saved (%)', 'customer_name': 'Customer Name'},\n",
    "            hover_data={'percentage_landfill_saved': ':.1f'},  # Format hover data with 1 decimal place\n",
    "        )\n",
    "\n",
    "        # Customize the layout\n",
    "        fig.update_layout(\n",
    "            xaxis_title=\"Total Landfill Space Saved (%)\",\n",
    "            yaxis_title=\"Customer Name\",\n",
    "            title_font_size=16,\n",
    "            height=600  # Adjust height for better readability\n",
    "        )\n",
    "\n",
    "    # Show the interactive plot\n",
    "    fig.show()\n",
    "\n",
    "# Create a dropdown for selecting the metric\n",
    "metric_dropdown = Dropdown(options=['CO2 Saved', 'Landfill Saved'], description='Select Metric:')\n",
    "\n",
    "# Use the interact function to link the dropdown to the plot function\n",
    "interact(plot_impact, selected_metric=metric_dropdown)\n"
   ]
  }
 ],
 "metadata": {
  "kernelspec": {
   "display_name": "Python 3 (ipykernel)",
   "language": "python",
   "name": "python3"
  },
  "language_info": {
   "codemirror_mode": {
    "name": "ipython",
    "version": 3
   },
   "file_extension": ".py",
   "mimetype": "text/x-python",
   "name": "python",
   "nbconvert_exporter": "python",
   "pygments_lexer": "ipython3",
   "version": "3.9.7"
  }
 },
 "nbformat": 4,
 "nbformat_minor": 5
}
